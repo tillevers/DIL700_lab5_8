{
 "cells": [
  {
   "attachments": {},
   "cell_type": "markdown",
   "metadata": {},
   "source": [
    "Import all the needed libraries"
   ]
  },
  {
   "cell_type": "code",
   "execution_count": 3,
   "metadata": {},
   "outputs": [],
   "source": [
    "import numpy as np\n",
    "import tensorflow as tf\n",
    "from tensorflow import keras\n",
    "from tensorflow.keras import layers\n",
    "from tensorflow.keras.datasets import mnist\n",
    "import matplotlib.pyplot as plt"
   ]
  },
  {
   "attachments": {},
   "cell_type": "markdown",
   "metadata": {},
   "source": [
    "Loading the dataset and scaling it"
   ]
  },
  {
   "cell_type": "code",
   "execution_count": 4,
   "metadata": {},
   "outputs": [],
   "source": [
    "# Load the MNIST dataset\n",
    "(X_train, _), (X_test, _) = mnist.load_data()\n",
    "X_train = X_train.astype('float32') / 255.0\n",
    "X_test = X_test.astype('float32') / 255.0"
   ]
  },
  {
   "attachments": {},
   "cell_type": "markdown",
   "metadata": {},
   "source": [
    "The encoder model is makde from two hidden layers, both convolutional with a flatten layer followed by two dense layers which are in parallel branches"
   ]
  },
  {
   "cell_type": "code",
   "execution_count": 5,
   "metadata": {},
   "outputs": [],
   "source": [
    "# Define the encoder model\n",
    "latent_dim = 2\n",
    "encoder_inputs = keras.Input(shape=(28, 28, 1))\n",
    "x = layers.Conv2D(32, 3, activation=\"relu\", strides=2, padding=\"same\")(encoder_inputs)\n",
    "x = layers.Conv2D(64, 3, activation=\"relu\", strides=2, padding=\"same\")(x)\n",
    "x = layers.Flatten()(x)\n",
    "z_mean = layers.Dense(latent_dim, name=\"z_mean\")(x)\n",
    "z_log_var = layers.Dense(latent_dim, name=\"z_log_var\")(x)"
   ]
  },
  {
   "attachments": {},
   "cell_type": "markdown",
   "metadata": {},
   "source": [
    "The last layer (output layer) will be a custom one using smapling of the two values from the previous parallel layers"
   ]
  },
  {
   "cell_type": "code",
   "execution_count": 6,
   "metadata": {},
   "outputs": [],
   "source": [
    "# Define the sampling layer\n",
    "def sampling(args):\n",
    "    z_mean, z_log_var = args\n",
    "    epsilon = tf.random.normal(shape=tf.shape(z_mean))\n",
    "    return z_mean + tf.exp(0.5 * z_log_var) * epsilon\n",
    "\n",
    "z = layers.Lambda(sampling)([z_mean, z_log_var])"
   ]
  },
  {
   "attachments": {},
   "cell_type": "markdown",
   "metadata": {},
   "source": [
    "The decoder model tries to decode the encoded data. The shape of the model is similiar to the encoding model"
   ]
  },
  {
   "cell_type": "code",
   "execution_count": 7,
   "metadata": {},
   "outputs": [],
   "source": [
    "# Define the decoder model\n",
    "decoder_inputs = keras.Input(shape=(latent_dim,))\n",
    "x = layers.Dense(7 * 7 * 64, activation=\"relu\")(decoder_inputs)\n",
    "x = layers.Reshape((7, 7, 64))(x)\n",
    "x = layers.Conv2DTranspose(64, 3, activation=\"relu\", strides=2, padding=\"same\")(x)\n",
    "x = layers.Conv2DTranspose(32, 3, activation=\"relu\", strides=2, padding=\"same\")(x)\n",
    "decoder_outputs = layers.Conv2DTranspose(1, 3, activation=\"sigmoid\", padding=\"same\")(x)"
   ]
  },
  {
   "attachments": {},
   "cell_type": "markdown",
   "metadata": {},
   "source": [
    "To create a VAE, the two models are combined"
   ]
  },
  {
   "cell_type": "code",
   "execution_count": 8,
   "metadata": {},
   "outputs": [],
   "source": [
    "# Define the VAE model\n",
    "encoder = keras.Model(encoder_inputs, [z_mean, z_log_var, z], name=\"encoder\")\n",
    "decoder = keras.Model(decoder_inputs, decoder_outputs, name=\"decoder\")\n",
    "vae_outputs = decoder(encoder(encoder_inputs)[2])\n",
    "vae = keras.Model(encoder_inputs, vae_outputs, name=\"vae\")"
   ]
  },
  {
   "attachments": {},
   "cell_type": "markdown",
   "metadata": {},
   "source": [
    "A custo loss function is created"
   ]
  },
  {
   "cell_type": "code",
   "execution_count": 9,
   "metadata": {},
   "outputs": [],
   "source": [
    "# Define the loss function\n",
    "reconstruction_loss = keras.losses.binary_crossentropy(keras.backend.flatten(encoder_inputs), keras.backend.flatten(vae_outputs))\n",
    "reconstruction_loss *= 28 * 28\n",
    "kl_loss = 1 + z_log_var - keras.backend.square(z_mean) - keras.backend.exp(z_log_var)\n",
    "kl_loss = keras.backend.sum(kl_loss, axis=-1)\n",
    "kl_loss *= -0.5\n",
    "vae_loss = keras.backend.mean(reconstruction_loss + kl_loss)\n",
    "vae.add_loss(vae_loss)"
   ]
  },
  {
   "attachments": {},
   "cell_type": "markdown",
   "metadata": {},
   "source": [
    "The model is compiled and trained"
   ]
  },
  {
   "cell_type": "code",
   "execution_count": 10,
   "metadata": {},
   "outputs": [
    {
     "name": "stdout",
     "output_type": "stream",
     "text": [
      "Epoch 1/50\n",
      "469/469 [==============================] - 7s 13ms/step - loss: 208.5278 - val_loss: 173.6772\n",
      "Epoch 2/50\n",
      "469/469 [==============================] - 6s 12ms/step - loss: 169.7825 - val_loss: 166.9321\n",
      "Epoch 3/50\n",
      "469/469 [==============================] - 6s 12ms/step - loss: 165.5875 - val_loss: 164.0636\n",
      "Epoch 4/50\n",
      "469/469 [==============================] - 6s 12ms/step - loss: 163.3689 - val_loss: 162.0691\n",
      "Epoch 5/50\n",
      "469/469 [==============================] - 6s 12ms/step - loss: 161.6012 - val_loss: 160.1809\n",
      "Epoch 6/50\n",
      "469/469 [==============================] - 6s 12ms/step - loss: 160.3433 - val_loss: 159.5679\n",
      "Epoch 7/50\n",
      "469/469 [==============================] - 6s 12ms/step - loss: 159.3524 - val_loss: 158.7545\n",
      "Epoch 8/50\n",
      "469/469 [==============================] - 6s 12ms/step - loss: 158.4595 - val_loss: 157.7306\n",
      "Epoch 9/50\n",
      "469/469 [==============================] - 6s 12ms/step - loss: 157.6876 - val_loss: 157.2989\n",
      "Epoch 10/50\n",
      "469/469 [==============================] - 6s 12ms/step - loss: 157.0888 - val_loss: 157.1247\n",
      "Epoch 11/50\n",
      "469/469 [==============================] - 6s 12ms/step - loss: 156.5191 - val_loss: 156.3584\n",
      "Epoch 12/50\n",
      "469/469 [==============================] - 6s 12ms/step - loss: 156.0665 - val_loss: 156.2165\n",
      "Epoch 13/50\n",
      "469/469 [==============================] - 6s 12ms/step - loss: 155.6880 - val_loss: 155.9233\n",
      "Epoch 14/50\n",
      "469/469 [==============================] - 6s 12ms/step - loss: 155.2815 - val_loss: 155.2634\n",
      "Epoch 15/50\n",
      "469/469 [==============================] - 6s 12ms/step - loss: 154.9750 - val_loss: 156.0396\n",
      "Epoch 16/50\n",
      "469/469 [==============================] - 6s 12ms/step - loss: 154.6668 - val_loss: 154.5050\n",
      "Epoch 17/50\n",
      "469/469 [==============================] - 6s 12ms/step - loss: 154.3569 - val_loss: 154.5472\n",
      "Epoch 18/50\n",
      "469/469 [==============================] - 6s 12ms/step - loss: 154.0947 - val_loss: 154.4061\n",
      "Epoch 19/50\n",
      "469/469 [==============================] - 6s 12ms/step - loss: 153.9692 - val_loss: 154.1651\n",
      "Epoch 20/50\n",
      "469/469 [==============================] - 6s 12ms/step - loss: 153.7109 - val_loss: 154.8778\n",
      "Epoch 21/50\n",
      "469/469 [==============================] - 6s 12ms/step - loss: 153.4954 - val_loss: 153.8389\n",
      "Epoch 22/50\n",
      "469/469 [==============================] - 6s 12ms/step - loss: 153.3247 - val_loss: 153.9189\n",
      "Epoch 23/50\n",
      "469/469 [==============================] - 6s 12ms/step - loss: 153.2107 - val_loss: 153.5885\n",
      "Epoch 24/50\n",
      "469/469 [==============================] - 6s 13ms/step - loss: 152.9680 - val_loss: 153.9696\n",
      "Epoch 25/50\n",
      "469/469 [==============================] - 6s 12ms/step - loss: 152.8270 - val_loss: 154.0275\n",
      "Epoch 26/50\n",
      "469/469 [==============================] - 6s 12ms/step - loss: 152.7047 - val_loss: 153.6530\n",
      "Epoch 27/50\n",
      "469/469 [==============================] - 6s 12ms/step - loss: 152.5479 - val_loss: 154.1958\n",
      "Epoch 28/50\n",
      "469/469 [==============================] - 6s 12ms/step - loss: 152.3002 - val_loss: 154.4011\n",
      "Epoch 29/50\n",
      "469/469 [==============================] - 6s 12ms/step - loss: 152.2740 - val_loss: 153.4436\n",
      "Epoch 30/50\n",
      "469/469 [==============================] - 6s 13ms/step - loss: 152.1194 - val_loss: 154.6439\n",
      "Epoch 31/50\n",
      "469/469 [==============================] - 6s 12ms/step - loss: 151.9461 - val_loss: 153.1735\n",
      "Epoch 32/50\n",
      "469/469 [==============================] - 6s 12ms/step - loss: 151.8942 - val_loss: 153.2497\n",
      "Epoch 33/50\n",
      "469/469 [==============================] - 6s 12ms/step - loss: 151.7108 - val_loss: 153.0119\n",
      "Epoch 34/50\n",
      "469/469 [==============================] - 6s 12ms/step - loss: 151.7375 - val_loss: 152.8745\n",
      "Epoch 35/50\n",
      "469/469 [==============================] - 6s 12ms/step - loss: 151.5580 - val_loss: 153.0564\n",
      "Epoch 36/50\n",
      "469/469 [==============================] - 6s 12ms/step - loss: 151.4952 - val_loss: 153.0541\n",
      "Epoch 37/50\n",
      "469/469 [==============================] - 6s 12ms/step - loss: 151.3814 - val_loss: 152.9660\n",
      "Epoch 38/50\n",
      "469/469 [==============================] - 6s 12ms/step - loss: 151.2423 - val_loss: 152.6937\n",
      "Epoch 39/50\n",
      "469/469 [==============================] - 6s 12ms/step - loss: 151.2340 - val_loss: 153.0739\n",
      "Epoch 40/50\n",
      "469/469 [==============================] - 6s 12ms/step - loss: 151.0535 - val_loss: 152.5578\n",
      "Epoch 41/50\n",
      "469/469 [==============================] - 6s 12ms/step - loss: 151.0340 - val_loss: 153.4579\n",
      "Epoch 42/50\n",
      "469/469 [==============================] - 6s 12ms/step - loss: 150.9249 - val_loss: 152.5392\n",
      "Epoch 43/50\n",
      "469/469 [==============================] - 6s 12ms/step - loss: 150.8206 - val_loss: 152.6027\n",
      "Epoch 44/50\n",
      "469/469 [==============================] - 6s 12ms/step - loss: 150.7794 - val_loss: 152.7792\n",
      "Epoch 45/50\n",
      "469/469 [==============================] - 6s 12ms/step - loss: 150.7046 - val_loss: 152.8353\n",
      "Epoch 46/50\n",
      "469/469 [==============================] - 6s 12ms/step - loss: 150.6434 - val_loss: 152.4042\n",
      "Epoch 47/50\n",
      "469/469 [==============================] - 6s 12ms/step - loss: 150.5436 - val_loss: 152.8451\n",
      "Epoch 48/50\n",
      "469/469 [==============================] - 6s 12ms/step - loss: 150.4731 - val_loss: 152.4937\n",
      "Epoch 49/50\n",
      "469/469 [==============================] - 6s 12ms/step - loss: 150.4135 - val_loss: 152.8578\n",
      "Epoch 50/50\n",
      "469/469 [==============================] - 6s 12ms/step - loss: 150.3271 - val_loss: 152.4355\n"
     ]
    },
    {
     "data": {
      "text/plain": [
       "<keras.callbacks.History at 0x1e19ed69ee0>"
      ]
     },
     "execution_count": 10,
     "metadata": {},
     "output_type": "execute_result"
    }
   ],
   "source": [
    "# Compile the model\n",
    "vae.compile(optimizer=keras.optimizers.Adam())\n",
    "\n",
    "# Train the model\n",
    "vae.fit(X_train, epochs=50, batch_size=128, validation_data=(X_test, None))"
   ]
  },
  {
   "attachments": {},
   "cell_type": "markdown",
   "metadata": {},
   "source": [
    "The model is used to generate ten new samples. It can be seen, that these looks quite similar to the original dataset. This means, that generative model is working properly and can be used tp generate more data"
   ]
  },
  {
   "cell_type": "code",
   "execution_count": 11,
   "metadata": {},
   "outputs": [
    {
     "name": "stdout",
     "output_type": "stream",
     "text": [
      "1/1 [==============================] - 0s 58ms/step\n"
     ]
    },
    {
     "data": {
      "image/png": "[encoded data removed]",
      "text/plain": [
       "<Figure size 1000x100 with 10 Axes>"
      ]
     },
     "metadata": {},
     "output_type": "display_data"
    }
   ],
   "source": [
    "# Generate new samples\n",
    "n_samples = 10\n",
    "z = tf.random.normal(shape=(n_samples, latent_dim))\n",
    "x_decoded = decoder.predict(z)\n",
    "\n",
    "# Plot the samples\n",
    "fig, axs = plt.subplots(1, n_samples, figsize=(n_samples, 1))\n",
    "for i in range(n_samples):\n",
    "    axs[i].imshow(x_decoded[i].reshape(28, 28), cmap='gray')\n",
    "    axs[i].axis('off')\n",
    "plt.show()"
   ]
  }
 ],
 "metadata": {
  "kernelspec": {
   "display_name": "Python 3",
   "language": "python",
   "name": "python3"
  },
  "language_info": {
   "codemirror_mode": {
    "name": "ipython",
    "version": 3
   },
   "file_extension": ".py",
   "mimetype": "text/x-python",
   "name": "python",
   "nbconvert_exporter": "python",
   "pygments_lexer": "ipython3",
   "version": "3.9.16"
  },
  "orig_nbformat": 4
 },
 "nbformat": 4,
 "nbformat_minor": 2
}
