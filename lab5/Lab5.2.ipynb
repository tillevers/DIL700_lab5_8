{
 "cells": [
  {
   "cell_type": "markdown",
   "metadata": {},
   "source": [
    "# Setup"
   ]
  },
  {
   "cell_type": "markdown",
   "metadata": {},
   "source": [
    "First, let's import a few common modules, ensure MatplotLib plots figures inline and prepare a function to save the figures. We also check that Python 3.5 or later is installed (although Python 2.x may work, it is deprecated so we strongly recommend you use Python 3 instead), as well as Scikit-Learn ≥0.20 and TensorFlow ≥2.0."
   ]
  },
  {
   "cell_type": "code",
   "execution_count": 1,
   "metadata": {},
   "outputs": [],
   "source": [
    "# Python ≥3.5 is required\n",
    "import sys\n",
    "assert sys.version_info >= (3, 5)\n",
    "\n",
    "# Is this notebook running on Colab or Kaggle?\n",
    "IS_COLAB = \"google.colab\" in sys.modules\n",
    "IS_KAGGLE = \"kaggle_secrets\" in sys.modules\n",
    "\n",
    "# Scikit-Learn ≥0.20 is required\n",
    "import sklearn\n",
    "assert sklearn.__version__ >= \"0.20\"\n",
    "\n",
    "# TensorFlow ≥2.0 is required\n",
    "import tensorflow as tf\n",
    "from tensorflow import keras\n",
    "assert tf.__version__ >= \"2.0\"\n",
    "\n",
    "if not tf.config.list_physical_devices('GPU'):\n",
    "    print(\"No GPU was detected. CNNs can be very slow without a GPU.\")\n",
    "    if IS_COLAB:\n",
    "        print(\"Go to Runtime > Change runtime and select a GPU hardware accelerator.\")\n",
    "    if IS_KAGGLE:\n",
    "        print(\"Go to Settings > Accelerator and select GPU.\")\n",
    "\n",
    "# Common imports\n",
    "import numpy as np\n",
    "import os\n",
    "\n",
    "# to make this notebook's output stable across runs\n",
    "np.random.seed(42)\n",
    "tf.random.set_seed(42)\n",
    "\n",
    "# To plot pretty figures\n",
    "%matplotlib inline\n",
    "import matplotlib as mpl\n",
    "import matplotlib.pyplot as plt\n",
    "mpl.rc('axes', labelsize=14)\n",
    "mpl.rc('xtick', labelsize=12)\n",
    "mpl.rc('ytick', labelsize=12)\n",
    "\n",
    "# Where to save the figures\n",
    "PROJECT_ROOT_DIR = \".\"\n",
    "CHAPTER_ID = \"cnn\"\n",
    "IMAGES_PATH = os.path.join(PROJECT_ROOT_DIR, \"images\", CHAPTER_ID)\n",
    "os.makedirs(IMAGES_PATH, exist_ok=True)\n",
    "\n",
    "def save_fig(fig_id, tight_layout=True, fig_extension=\"png\", resolution=300):\n",
    "    path = os.path.join(IMAGES_PATH, fig_id + \".\" + fig_extension)\n",
    "    print(\"Saving figure\", fig_id)\n",
    "    if tight_layout:\n",
    "        plt.tight_layout()\n",
    "    plt.savefig(path, format=fig_extension, dpi=resolution)"
   ]
  },
  {
   "cell_type": "markdown",
   "metadata": {},
   "source": [
    "A couple utility functions to plot grayscale and RGB images:"
   ]
  },
  {
   "cell_type": "code",
   "execution_count": 2,
   "metadata": {},
   "outputs": [],
   "source": [
    "def plot_image(image):\n",
    "    plt.imshow(image, cmap=\"gray\", interpolation=\"nearest\")\n",
    "    plt.axis(\"off\")\n",
    "\n",
    "def plot_color_image(image):\n",
    "    plt.imshow(image, interpolation=\"nearest\")\n",
    "    plt.axis(\"off\")"
   ]
  },
  {
   "cell_type": "markdown",
   "metadata": {},
   "source": [
    "# Tackling Fashion MNIST With a CNN"
   ]
  },
  {
   "cell_type": "code",
   "execution_count": 3,
   "metadata": {},
   "outputs": [],
   "source": [
    "(X_train_full, y_train_full), (X_test, y_test) = keras.datasets.fashion_mnist.load_data()\n",
    "X_train, X_valid = X_train_full[:-5000], X_train_full[-5000:]\n",
    "y_train, y_valid = y_train_full[:-5000], y_train_full[-5000:]\n",
    "\n",
    "X_mean = X_train.mean(axis=0, keepdims=True)\n",
    "X_std = X_train.std(axis=0, keepdims=True) + 1e-7\n",
    "X_train = (X_train - X_mean) / X_std\n",
    "X_valid = (X_valid - X_mean) / X_std\n",
    "X_test = (X_test - X_mean) / X_std\n",
    "\n",
    "X_train = X_train[..., np.newaxis]\n",
    "X_valid = X_valid[..., np.newaxis]\n",
    "X_test = X_test[..., np.newaxis]"
   ]
  },
  {
   "cell_type": "code",
   "execution_count": 4,
   "metadata": {},
   "outputs": [],
   "source": [
    "from functools import partial\n",
    "\n",
    "DefaultConv2D = partial(keras.layers.Conv2D,\n",
    "                        kernel_size=3, activation='relu', padding=\"SAME\")\n",
    "\n",
    "model = keras.models.Sequential([\n",
    "    DefaultConv2D(filters=64, kernel_size=7, input_shape=[28, 28, 1]),\n",
    "    keras.layers.MaxPooling2D(pool_size=2),\n",
    "    DefaultConv2D(filters=128),\n",
    "    DefaultConv2D(filters=128),\n",
    "    keras.layers.MaxPooling2D(pool_size=2),\n",
    "    DefaultConv2D(filters=256),\n",
    "    DefaultConv2D(filters=256),\n",
    "    keras.layers.MaxPooling2D(pool_size=2),\n",
    "    keras.layers.Flatten(),\n",
    "    keras.layers.Dense(units=128, activation='relu'),\n",
    "    keras.layers.Dropout(0.5),\n",
    "    keras.layers.Dense(units=64, activation='relu'),\n",
    "    keras.layers.Dropout(0.5),\n",
    "    keras.layers.Dense(units=10, activation='softmax'),\n",
    "])"
   ]
  },
  {
   "cell_type": "code",
   "execution_count": 5,
   "metadata": {},
   "outputs": [
    {
     "name": "stdout",
     "output_type": "stream",
     "text": [
      "Epoch 1/30\n",
      "1719/1719 [==============================] - 26s 13ms/step - loss: 0.7093 - accuracy: 0.7560 - val_loss: 0.3696 - val_accuracy: 0.8700\n",
      "Epoch 2/30\n",
      "1719/1719 [==============================] - 22s 13ms/step - loss: 0.4179 - accuracy: 0.8604 - val_loss: 0.3212 - val_accuracy: 0.8858\n",
      "Epoch 3/30\n",
      "1719/1719 [==============================] - 22s 13ms/step - loss: 0.3599 - accuracy: 0.8778 - val_loss: 0.3095 - val_accuracy: 0.8906\n",
      "Epoch 4/30\n",
      "1719/1719 [==============================] - 21s 12ms/step - loss: 0.3255 - accuracy: 0.8914 - val_loss: 0.2873 - val_accuracy: 0.9000\n",
      "Epoch 5/30\n",
      "1719/1719 [==============================] - 20s 12ms/step - loss: 0.3065 - accuracy: 0.8971 - val_loss: 0.3061 - val_accuracy: 0.8984\n",
      "Epoch 6/30\n",
      "1719/1719 [==============================] - 20s 12ms/step - loss: 0.2975 - accuracy: 0.9002 - val_loss: 0.2864 - val_accuracy: 0.9028\n",
      "Epoch 7/30\n",
      "1719/1719 [==============================] - 20s 11ms/step - loss: 0.2732 - accuracy: 0.9077 - val_loss: 0.2841 - val_accuracy: 0.8992\n",
      "Epoch 8/30\n",
      "1719/1719 [==============================] - 20s 11ms/step - loss: 0.2629 - accuracy: 0.9113 - val_loss: 0.2809 - val_accuracy: 0.9062\n",
      "Epoch 9/30\n",
      "1719/1719 [==============================] - 20s 11ms/step - loss: 0.2604 - accuracy: 0.9111 - val_loss: 0.2731 - val_accuracy: 0.9104\n",
      "Epoch 10/30\n",
      "1719/1719 [==============================] - 20s 12ms/step - loss: 0.2506 - accuracy: 0.9175 - val_loss: 0.2689 - val_accuracy: 0.9034\n",
      "Epoch 11/30\n",
      "1719/1719 [==============================] - 21s 12ms/step - loss: 0.2418 - accuracy: 0.9181 - val_loss: 0.3073 - val_accuracy: 0.9014\n",
      "Epoch 12/30\n",
      "1719/1719 [==============================] - 22s 13ms/step - loss: 0.2310 - accuracy: 0.9221 - val_loss: 0.2958 - val_accuracy: 0.9046\n",
      "Epoch 13/30\n",
      "1719/1719 [==============================] - 21s 12ms/step - loss: 0.2337 - accuracy: 0.9225 - val_loss: 0.3017 - val_accuracy: 0.9042\n",
      "Epoch 14/30\n",
      "1719/1719 [==============================] - 20s 11ms/step - loss: 0.2250 - accuracy: 0.9241 - val_loss: 0.2957 - val_accuracy: 0.9050\n",
      "Epoch 15/30\n",
      "1719/1719 [==============================] - 21s 12ms/step - loss: 0.2226 - accuracy: 0.9270 - val_loss: 0.3135 - val_accuracy: 0.9054\n",
      "Epoch 16/30\n",
      "1719/1719 [==============================] - 22s 13ms/step - loss: 0.2176 - accuracy: 0.9276 - val_loss: 0.3123 - val_accuracy: 0.9072\n",
      "Epoch 17/30\n",
      "1719/1719 [==============================] - 22s 13ms/step - loss: 0.2198 - accuracy: 0.9267 - val_loss: 0.3055 - val_accuracy: 0.9084\n",
      "Epoch 18/30\n",
      "1719/1719 [==============================] - 22s 13ms/step - loss: 0.2162 - accuracy: 0.9294 - val_loss: 0.3148 - val_accuracy: 0.9116\n",
      "Epoch 19/30\n",
      "1719/1719 [==============================] - 21s 12ms/step - loss: 0.2160 - accuracy: 0.9297 - val_loss: 0.3021 - val_accuracy: 0.9032\n",
      "Epoch 20/30\n",
      "1719/1719 [==============================] - 20s 12ms/step - loss: 0.2112 - accuracy: 0.9317 - val_loss: 0.3155 - val_accuracy: 0.9066\n",
      "Epoch 21/30\n",
      "1719/1719 [==============================] - 20s 12ms/step - loss: 0.2003 - accuracy: 0.9327 - val_loss: 0.3426 - val_accuracy: 0.9088\n",
      "Epoch 22/30\n",
      "1719/1719 [==============================] - 21s 12ms/step - loss: 0.1965 - accuracy: 0.9347 - val_loss: 0.3847 - val_accuracy: 0.9014\n",
      "Epoch 23/30\n",
      "1719/1719 [==============================] - 21s 12ms/step - loss: 0.1976 - accuracy: 0.9357 - val_loss: 0.3268 - val_accuracy: 0.9102\n",
      "Epoch 24/30\n",
      "1719/1719 [==============================] - 21s 12ms/step - loss: 0.2060 - accuracy: 0.9340 - val_loss: 0.3600 - val_accuracy: 0.9090\n",
      "Epoch 25/30\n",
      "1719/1719 [==============================] - 20s 12ms/step - loss: 0.1903 - accuracy: 0.9402 - val_loss: 0.3451 - val_accuracy: 0.9004\n",
      "Epoch 26/30\n",
      "1719/1719 [==============================] - 20s 12ms/step - loss: 0.2020 - accuracy: 0.9357 - val_loss: 0.3342 - val_accuracy: 0.9038\n",
      "Epoch 27/30\n",
      "1719/1719 [==============================] - 20s 12ms/step - loss: 0.1918 - accuracy: 0.9391 - val_loss: 0.3608 - val_accuracy: 0.9088\n",
      "Epoch 28/30\n",
      "1719/1719 [==============================] - 20s 12ms/step - loss: 0.1888 - accuracy: 0.9393 - val_loss: 0.3691 - val_accuracy: 0.9098\n",
      "Epoch 29/30\n",
      "1719/1719 [==============================] - 21s 12ms/step - loss: 0.2047 - accuracy: 0.9373 - val_loss: 0.3833 - val_accuracy: 0.9100\n",
      "Epoch 30/30\n",
      "1719/1719 [==============================] - 22s 13ms/step - loss: 0.1799 - accuracy: 0.9428 - val_loss: 0.3669 - val_accuracy: 0.9100\n"
     ]
    }
   ],
   "source": [
    "model.compile(loss=\"sparse_categorical_crossentropy\", optimizer=\"nadam\", metrics=[\"accuracy\"])\n",
    "history = model.fit(X_train, y_train, epochs=30, validation_data=(X_valid, y_valid))\n"
   ]
  },
  {
   "cell_type": "code",
   "execution_count": 7,
   "metadata": {},
   "outputs": [
    {
     "name": "stdout",
     "output_type": "stream",
     "text": [
      "313/313 [==============================] - 1s 4ms/step - loss: 0.3828 - accuracy: 0.9084\n"
     ]
    }
   ],
   "source": [
    "score = model.evaluate(X_test, y_test)\n",
    "# X_new = X_test[:10] # pretend we have new images\n",
    "# y_pred = model.predict(X_new)"
   ]
  }
 ],
 "metadata": {
  "kernelspec": {
   "display_name": "Python 3",
   "language": "python",
   "name": "python3"
  },
  "language_info": {
   "codemirror_mode": {
    "name": "ipython",
    "version": 3
   },
   "file_extension": ".py",
   "mimetype": "text/x-python",
   "name": "python",
   "nbconvert_exporter": "python",
   "pygments_lexer": "ipython3",
   "version": "3.9.16"
  },
  "nav_menu": {},
  "toc": {
   "navigate_menu": true,
   "number_sections": true,
   "sideBar": true,
   "threshold": 6,
   "toc_cell": false,
   "toc_section_display": "block",
   "toc_window_display": false
  }
 },
 "nbformat": 4,
 "nbformat_minor": 4
}
